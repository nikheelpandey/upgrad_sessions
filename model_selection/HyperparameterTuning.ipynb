{
 "cells": [
  {
   "cell_type": "code",
   "execution_count": 1,
   "id": "tough-standard",
   "metadata": {},
   "outputs": [],
   "source": [
    "from sklearn.datasets import make_classification\n",
    "from sklearn.model_selection import RepeatedStratifiedKFold\n",
    "from sklearn.model_selection import GridSearchCV\n",
    "from sklearn.linear_model import LogisticRegression"
   ]
  },
  {
   "cell_type": "code",
   "execution_count": 2,
   "id": "amber-retro",
   "metadata": {},
   "outputs": [],
   "source": [
    "X, y = make_classification(n_samples=10000, n_features=2, n_redundant=0,\n",
    "                            n_clusters_per_class=1,class_sep=.5, weights=[0.9], flip_y=0, random_state=1)"
   ]
  },
  {
   "cell_type": "code",
   "execution_count": 3,
   "id": "simplified-microphone",
   "metadata": {},
   "outputs": [],
   "source": [
    "#model and parameters\n",
    "model = LogisticRegression()\n",
    "solvers = ['newton-cg', 'lbfgs', 'liblinear']\n",
    "penalty = ['l2']\n",
    "c_values = [100,50,20, 10, 1.0, 0.1, 0.01]"
   ]
  },
  {
   "cell_type": "code",
   "execution_count": 4,
   "id": "tribal-florida",
   "metadata": {},
   "outputs": [],
   "source": [
    "#define a grid search\n",
    "grid = dict(solver=solvers,penalty=penalty,C=c_values)\n",
    "cv = RepeatedStratifiedKFold(n_splits=10, n_repeats=3, random_state=1)\n",
    "grid_search = GridSearchCV(estimator=model, param_grid=grid, n_jobs=-1, cv=cv, scoring='accuracy',error_score=0)\n",
    "grid_result = grid_search.fit(X, y)"
   ]
  },
  {
   "cell_type": "code",
   "execution_count": 5,
   "id": "responsible-daisy",
   "metadata": {},
   "outputs": [
    {
     "name": "stdout",
     "output_type": "stream",
     "text": [
      "Best: 0.923667 using {'C': 100, 'penalty': 'l2', 'solver': 'newton-cg'}\n",
      "mean:0.92\tstddev:0.0\tparam:{'C': 100, 'penalty': 'l2', 'solver': 'newton-cg'}\n",
      "mean:0.92\tstddev:0.0\tparam:{'C': 100, 'penalty': 'l2', 'solver': 'lbfgs'}\n",
      "mean:0.92\tstddev:0.0\tparam:{'C': 100, 'penalty': 'l2', 'solver': 'liblinear'}\n",
      "mean:0.92\tstddev:0.0\tparam:{'C': 50, 'penalty': 'l2', 'solver': 'newton-cg'}\n",
      "mean:0.92\tstddev:0.0\tparam:{'C': 50, 'penalty': 'l2', 'solver': 'lbfgs'}\n",
      "mean:0.92\tstddev:0.0\tparam:{'C': 50, 'penalty': 'l2', 'solver': 'liblinear'}\n",
      "mean:0.92\tstddev:0.0\tparam:{'C': 20, 'penalty': 'l2', 'solver': 'newton-cg'}\n",
      "mean:0.92\tstddev:0.0\tparam:{'C': 20, 'penalty': 'l2', 'solver': 'lbfgs'}\n",
      "mean:0.92\tstddev:0.0\tparam:{'C': 20, 'penalty': 'l2', 'solver': 'liblinear'}\n",
      "mean:0.92\tstddev:0.0\tparam:{'C': 10, 'penalty': 'l2', 'solver': 'newton-cg'}\n",
      "mean:0.92\tstddev:0.0\tparam:{'C': 10, 'penalty': 'l2', 'solver': 'lbfgs'}\n",
      "mean:0.92\tstddev:0.0\tparam:{'C': 10, 'penalty': 'l2', 'solver': 'liblinear'}\n",
      "mean:0.92\tstddev:0.0\tparam:{'C': 1.0, 'penalty': 'l2', 'solver': 'newton-cg'}\n",
      "mean:0.92\tstddev:0.0\tparam:{'C': 1.0, 'penalty': 'l2', 'solver': 'lbfgs'}\n",
      "mean:0.92\tstddev:0.0\tparam:{'C': 1.0, 'penalty': 'l2', 'solver': 'liblinear'}\n",
      "mean:0.92\tstddev:0.0\tparam:{'C': 0.1, 'penalty': 'l2', 'solver': 'newton-cg'}\n",
      "mean:0.92\tstddev:0.0\tparam:{'C': 0.1, 'penalty': 'l2', 'solver': 'lbfgs'}\n",
      "mean:0.92\tstddev:0.0\tparam:{'C': 0.1, 'penalty': 'l2', 'solver': 'liblinear'}\n",
      "mean:0.91\tstddev:0.0\tparam:{'C': 0.01, 'penalty': 'l2', 'solver': 'newton-cg'}\n",
      "mean:0.91\tstddev:0.0\tparam:{'C': 0.01, 'penalty': 'l2', 'solver': 'lbfgs'}\n",
      "mean:0.91\tstddev:0.0\tparam:{'C': 0.01, 'penalty': 'l2', 'solver': 'liblinear'}\n"
     ]
    }
   ],
   "source": [
    "# summarize results\n",
    "print(\"Best: %f using %s\" % (grid_result.best_score_, grid_result.best_params_))\n",
    "means = grid_result.cv_results_['mean_test_score']\n",
    "stds = grid_result.cv_results_['std_test_score']\n",
    "params = grid_result.cv_results_['params']\n",
    "for mean, stdev, param in zip(means, stds, params):\n",
    "    print(f'mean:{round(mean,2)}\\tstddev:{round(stdev,2)}\\tparam:{param}')"
   ]
  },
  {
   "cell_type": "code",
   "execution_count": null,
   "id": "warming-floating",
   "metadata": {},
   "outputs": [],
   "source": []
  }
 ],
 "metadata": {
  "kernelspec": {
   "display_name": "Python 3",
   "language": "python",
   "name": "python3"
  },
  "language_info": {
   "codemirror_mode": {
    "name": "ipython",
    "version": 3
   },
   "file_extension": ".py",
   "mimetype": "text/x-python",
   "name": "python",
   "nbconvert_exporter": "python",
   "pygments_lexer": "ipython3",
   "version": "3.8.5"
  }
 },
 "nbformat": 4,
 "nbformat_minor": 5
}
